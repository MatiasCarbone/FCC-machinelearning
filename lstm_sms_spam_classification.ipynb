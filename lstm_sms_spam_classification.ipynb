{
  "cells": [
    {
      "cell_type": "code",
      "execution_count": 1,
      "metadata": {
        "id": "8RZOuS9LWQvv"
      },
      "outputs": [
        {
          "name": "stderr",
          "output_type": "stream",
          "text": [
            "c:\\ProgramData\\anaconda3\\envs\\tensorflow\\lib\\site-packages\\tqdm\\auto.py:21: TqdmWarning: IProgress not found. Please update jupyter and ipywidgets. See https://ipywidgets.readthedocs.io/en/stable/user_install.html\n",
            "  from .autonotebook import tqdm as notebook_tqdm\n"
          ]
        },
        {
          "name": "stdout",
          "output_type": "stream",
          "text": [
            "Tensorflow version 2.13.0\n"
          ]
        }
      ],
      "source": [
        "import tensorflow as tf\n",
        "from tensorflow import keras\n",
        "\n",
        "# !pip install tensorflow-datasets\n",
        "import tensorflow_datasets as tfds\n",
        "\n",
        "import os\n",
        "import numpy as np\n",
        "import pandas as pd\n",
        "import matplotlib.pyplot as plt\n",
        "\n",
        "print(f\"Tensorflow version {tf.__version__}\")"
      ]
    },
    {
      "cell_type": "code",
      "execution_count": 2,
      "metadata": {
        "id": "lMHwYXHXCar3"
      },
      "outputs": [
        {
          "name": "stderr",
          "output_type": "stream",
          "text": [
            "2024-01-07 16:38:02 URL:https://cdn.freecodecamp.org/project-data/sms/train-data.tsv [358233/358233] -> \"train-data.tsv\" [1]\n",
            "2024-01-07 16:38:03 URL:https://cdn.freecodecamp.org/project-data/sms/valid-data.tsv [118774/118774] -> \"valid-data.tsv\" [1]\n"
          ]
        }
      ],
      "source": [
        "# Download project data files\n",
        "!wget https://cdn.freecodecamp.org/project-data/sms/train-data.tsv -nv\n",
        "!wget https://cdn.freecodecamp.org/project-data/sms/valid-data.tsv -nv\n",
        "\n",
        "train_file_path = \"train-data.tsv\"\n",
        "test_file_path = \"valid-data.tsv\""
      ]
    },
    {
      "cell_type": "code",
      "execution_count": 3,
      "metadata": {
        "id": "g_h508FEClxO"
      },
      "outputs": [],
      "source": [
        "train_data = pd.read_csv(train_file_path, sep='\\t', names=['y', 'x'])\n",
        "test_data = pd.read_csv(test_file_path, sep='\\t', names=['y', 'x'])\n",
        "\n",
        "train_data.y.replace(['ham', 'spam'], ['0', '1'], inplace=True)\n",
        "test_data.y.replace(['ham', 'spam'], ['0', '1'], inplace=True)\n",
        "\n",
        "os.remove(train_file_path)\n",
        "os.remove(test_file_path)"
      ]
    },
    {
      "cell_type": "code",
      "execution_count": 4,
      "metadata": {},
      "outputs": [
        {
          "data": {
            "text/html": [
              "<div>\n",
              "<style scoped>\n",
              "    .dataframe tbody tr th:only-of-type {\n",
              "        vertical-align: middle;\n",
              "    }\n",
              "\n",
              "    .dataframe tbody tr th {\n",
              "        vertical-align: top;\n",
              "    }\n",
              "\n",
              "    .dataframe thead th {\n",
              "        text-align: right;\n",
              "    }\n",
              "</style>\n",
              "<table border=\"1\" class=\"dataframe\">\n",
              "  <thead>\n",
              "    <tr style=\"text-align: right;\">\n",
              "      <th></th>\n",
              "      <th>y</th>\n",
              "      <th>x</th>\n",
              "    </tr>\n",
              "  </thead>\n",
              "  <tbody>\n",
              "    <tr>\n",
              "      <th>0</th>\n",
              "      <td>0</td>\n",
              "      <td>ahhhh...just woken up!had a bad dream about u ...</td>\n",
              "    </tr>\n",
              "    <tr>\n",
              "      <th>1</th>\n",
              "      <td>0</td>\n",
              "      <td>you can never do nothing</td>\n",
              "    </tr>\n",
              "    <tr>\n",
              "      <th>2</th>\n",
              "      <td>0</td>\n",
              "      <td>now u sound like manky scouse boy steve,like! ...</td>\n",
              "    </tr>\n",
              "    <tr>\n",
              "      <th>3</th>\n",
              "      <td>0</td>\n",
              "      <td>mum say we wan to go then go... then she can s...</td>\n",
              "    </tr>\n",
              "    <tr>\n",
              "      <th>4</th>\n",
              "      <td>0</td>\n",
              "      <td>never y lei... i v lazy... got wat? dat day ü ...</td>\n",
              "    </tr>\n",
              "    <tr>\n",
              "      <th>5</th>\n",
              "      <td>0</td>\n",
              "      <td>in xam hall boy asked girl tell me the startin...</td>\n",
              "    </tr>\n",
              "    <tr>\n",
              "      <th>6</th>\n",
              "      <td>0</td>\n",
              "      <td>genius what's up. how your brother. pls send h...</td>\n",
              "    </tr>\n",
              "    <tr>\n",
              "      <th>7</th>\n",
              "      <td>0</td>\n",
              "      <td>they finally came to fix the ceiling.</td>\n",
              "    </tr>\n",
              "  </tbody>\n",
              "</table>\n",
              "</div>"
            ],
            "text/plain": [
              "   y                                                  x\n",
              "0  0  ahhhh...just woken up!had a bad dream about u ...\n",
              "1  0                           you can never do nothing\n",
              "2  0  now u sound like manky scouse boy steve,like! ...\n",
              "3  0  mum say we wan to go then go... then she can s...\n",
              "4  0  never y lei... i v lazy... got wat? dat day ü ...\n",
              "5  0  in xam hall boy asked girl tell me the startin...\n",
              "6  0  genius what's up. how your brother. pls send h...\n",
              "7  0              they finally came to fix the ceiling."
            ]
          },
          "execution_count": 4,
          "metadata": {},
          "output_type": "execute_result"
        }
      ],
      "source": [
        "train_data.head(8)"
      ]
    },
    {
      "cell_type": "code",
      "execution_count": 5,
      "metadata": {},
      "outputs": [
        {
          "name": "stdout",
          "output_type": "stream",
          "text": [
            "Train dtypes:\n",
            "y             int32\n",
            "x    string[python]\n",
            "dtype: object\n",
            "\n",
            "Test dtypes:\n",
            "y             int32\n",
            "x    string[python]\n",
            "dtype: object\n"
          ]
        }
      ],
      "source": [
        "train_data = train_data.astype({'y': 'int32', 'x': 'string'})\n",
        "test_data = test_data.astype({'y': 'int32', 'x': 'string'})\n",
        "\n",
        "print(f'Train dtypes:\\n{train_data.dtypes}\\n')\n",
        "print(f'Test dtypes:\\n{test_data.dtypes}')"
      ]
    },
    {
      "cell_type": "code",
      "execution_count": 6,
      "metadata": {},
      "outputs": [],
      "source": [
        "max_vocab = 6000\n",
        "text_length = 80\n",
        "\n",
        "vectorization = tf.keras.layers.TextVectorization(\n",
        "    max_tokens=max_vocab,\n",
        "    standardize='lower_and_strip_punctuation',\n",
        "    output_mode=\"int\",\n",
        "    output_sequence_length=text_length,\n",
        ")\n",
        "\n",
        "vectorization.adapt(pd.concat([train_data.x, test_data.x]))"
      ]
    },
    {
      "cell_type": "code",
      "execution_count": 7,
      "metadata": {},
      "outputs": [
        {
          "data": {
            "text/plain": [
              "<tf.Tensor: shape=(80,), dtype=int64, numpy=\n",
              "array([100,  54,  21,   4, 618,   0,   0,   0,   0,   0,   0,   0,   0,\n",
              "         0,   0,   0,   0,   0,   0,   0,   0,   0,   0,   0,   0,   0,\n",
              "         0,   0,   0,   0,   0,   0,   0,   0,   0,   0,   0,   0,   0,\n",
              "         0,   0,   0,   0,   0,   0,   0,   0,   0,   0,   0,   0,   0,\n",
              "         0,   0,   0,   0,   0,   0,   0,   0,   0,   0,   0,   0,   0,\n",
              "         0,   0,   0,   0,   0,   0,   0,   0,   0,   0,   0,   0,   0,\n",
              "         0,   0], dtype=int64)>"
            ]
          },
          "execution_count": 7,
          "metadata": {},
          "output_type": "execute_result"
        }
      ],
      "source": [
        "vectorization(\"hi how are you brother\")"
      ]
    },
    {
      "cell_type": "code",
      "execution_count": 8,
      "metadata": {},
      "outputs": [
        {
          "name": "stdout",
          "output_type": "stream",
          "text": [
            "Model: \"sequential\"\n",
            "_________________________________________________________________\n",
            " Layer (type)                Output Shape              Param #   \n",
            "=================================================================\n",
            " text_vectorization (TextVe  (None, 80)                0         \n",
            " ctorization)                                                    \n",
            "                                                                 \n",
            " embedding (Embedding)       (None, 80, 32)            192032    \n",
            "                                                                 \n",
            " lstm (LSTM)                 (None, 15)                2880      \n",
            "                                                                 \n",
            " dense (Dense)               (None, 1)                 16        \n",
            "                                                                 \n",
            "=================================================================\n",
            "Total params: 194928 (761.44 KB)\n",
            "Trainable params: 194928 (761.44 KB)\n",
            "Non-trainable params: 0 (0.00 Byte)\n",
            "_________________________________________________________________\n"
          ]
        }
      ],
      "source": [
        "model = tf.keras.models.Sequential()\n",
        "\n",
        "model.add(tf.keras.Input(shape=(1,), dtype=tf.string))\n",
        "model.add(vectorization)\n",
        " # Input dim is +1 because it's the vocabulary + the 0 token for non-vocabulary words\n",
        "model.add(tf.keras.layers.Embedding(input_dim=max_vocab + 1, output_dim=32))\n",
        "model.add(tf.keras.layers.LSTM(15, dropout=0.5))\n",
        "model.add(tf.keras.layers.Dense(1, activation='sigmoid'))\n",
        "\n",
        "model.summary()\n",
        "\n",
        "model.compile(optimizer=tf.keras.optimizers.Adam(learning_rate=0.00001), loss='binary_crossentropy', metrics=['accuracy'])"
      ]
    },
    {
      "cell_type": "code",
      "execution_count": 9,
      "metadata": {},
      "outputs": [
        {
          "name": "stdout",
          "output_type": "stream",
          "text": [
            "Epoch 1/20\n",
            "131/131 [==============================] - 4s 16ms/step - loss: 0.7020 - accuracy: 0.1744 - val_loss: 0.6983 - val_accuracy: 0.1358\n",
            "Epoch 2/20\n",
            "131/131 [==============================] - 2s 13ms/step - loss: 0.6947 - accuracy: 0.4171 - val_loss: 0.6909 - val_accuracy: 0.8657\n",
            "Epoch 3/20\n",
            "131/131 [==============================] - 2s 13ms/step - loss: 0.6873 - accuracy: 0.7633 - val_loss: 0.6837 - val_accuracy: 0.8657\n",
            "Epoch 4/20\n",
            "131/131 [==============================] - 2s 13ms/step - loss: 0.6799 - accuracy: 0.8615 - val_loss: 0.6764 - val_accuracy: 0.8657\n",
            "Epoch 5/20\n",
            "131/131 [==============================] - 2s 13ms/step - loss: 0.6727 - accuracy: 0.8660 - val_loss: 0.6689 - val_accuracy: 0.8657\n",
            "Epoch 6/20\n",
            "131/131 [==============================] - 2s 13ms/step - loss: 0.6650 - accuracy: 0.8660 - val_loss: 0.6609 - val_accuracy: 0.8657\n",
            "Epoch 7/20\n",
            "131/131 [==============================] - 2s 13ms/step - loss: 0.6568 - accuracy: 0.8660 - val_loss: 0.6523 - val_accuracy: 0.8657\n",
            "Epoch 8/20\n",
            "131/131 [==============================] - 2s 13ms/step - loss: 0.6478 - accuracy: 0.8660 - val_loss: 0.6428 - val_accuracy: 0.8657\n",
            "Epoch 9/20\n",
            "131/131 [==============================] - 2s 13ms/step - loss: 0.6377 - accuracy: 0.8660 - val_loss: 0.6323 - val_accuracy: 0.8657\n",
            "Epoch 10/20\n",
            "131/131 [==============================] - 2s 13ms/step - loss: 0.6263 - accuracy: 0.8660 - val_loss: 0.6205 - val_accuracy: 0.8657\n",
            "Epoch 11/20\n",
            "131/131 [==============================] - 2s 13ms/step - loss: 0.6145 - accuracy: 0.8660 - val_loss: 0.6072 - val_accuracy: 0.8657\n",
            "Epoch 12/20\n",
            "131/131 [==============================] - 2s 13ms/step - loss: 0.6004 - accuracy: 0.8660 - val_loss: 0.5923 - val_accuracy: 0.8657\n",
            "Epoch 13/20\n",
            "131/131 [==============================] - 2s 13ms/step - loss: 0.5842 - accuracy: 0.8660 - val_loss: 0.5753 - val_accuracy: 0.8657\n",
            "Epoch 14/20\n",
            "131/131 [==============================] - 2s 13ms/step - loss: 0.5659 - accuracy: 0.8660 - val_loss: 0.5558 - val_accuracy: 0.8657\n",
            "Epoch 15/20\n",
            "131/131 [==============================] - 2s 13ms/step - loss: 0.5454 - accuracy: 0.8660 - val_loss: 0.5338 - val_accuracy: 0.8657\n",
            "Epoch 16/20\n",
            "131/131 [==============================] - 2s 13ms/step - loss: 0.5219 - accuracy: 0.8660 - val_loss: 0.5092 - val_accuracy: 0.8657\n",
            "Epoch 17/20\n",
            "131/131 [==============================] - 2s 13ms/step - loss: 0.4969 - accuracy: 0.8660 - val_loss: 0.4830 - val_accuracy: 0.8657\n",
            "Epoch 18/20\n",
            "131/131 [==============================] - 2s 13ms/step - loss: 0.4703 - accuracy: 0.8660 - val_loss: 0.4565 - val_accuracy: 0.8657\n",
            "Epoch 19/20\n",
            "131/131 [==============================] - 2s 13ms/step - loss: 0.4453 - accuracy: 0.8660 - val_loss: 0.4340 - val_accuracy: 0.8657\n",
            "Epoch 20/20\n",
            "131/131 [==============================] - 2s 13ms/step - loss: 0.4255 - accuracy: 0.8660 - val_loss: 0.4172 - val_accuracy: 0.8657\n"
          ]
        },
        {
          "data": {
            "text/plain": [
              "<keras.src.callbacks.History at 0x213fd2d1f40>"
            ]
          },
          "execution_count": 9,
          "metadata": {},
          "output_type": "execute_result"
        }
      ],
      "source": [
        "model.fit(x=train_data.x, y=train_data.y, epochs=20, validation_data=(test_data.x, test_data.y))"
      ]
    },
    {
      "cell_type": "code",
      "execution_count": null,
      "metadata": {
        "id": "J9tD9yACG6M9"
      },
      "outputs": [],
      "source": [
        "# function to predict messages based on model\n",
        "# (should return list containing prediction and label, ex. [0.008318834938108921, 'ham'])\n",
        "def predict_message(pred_text):\n",
        "\n",
        "\n",
        "\n",
        "  return (prediction)\n",
        "\n",
        "pred_text = \"how are you doing today?\"\n",
        "\n",
        "prediction = predict_message(pred_text)\n",
        "print(prediction)"
      ]
    },
    {
      "cell_type": "code",
      "execution_count": null,
      "metadata": {
        "id": "Dxotov85SjsC"
      },
      "outputs": [],
      "source": [
        "# Run this cell to test your function and model. Do not modify contents.\n",
        "def test_predictions():\n",
        "  test_messages = [\"how are you doing today\",\n",
        "                   \"sale today! to stop texts call 98912460324\",\n",
        "                   \"i dont want to go. can we try it a different day? available sat\",\n",
        "                   \"our new mobile video service is live. just install on your phone to start watching.\",\n",
        "                   \"you have won £1000 cash! call to claim your prize.\",\n",
        "                   \"i'll bring it tomorrow. don't forget the milk.\",\n",
        "                   \"wow, is your arm alright. that happened to me one time too\"\n",
        "                  ]\n",
        "\n",
        "  test_answers = [\"ham\", \"spam\", \"ham\", \"spam\", \"spam\", \"ham\", \"ham\"]\n",
        "  passed = True\n",
        "\n",
        "  for msg, ans in zip(test_messages, test_answers):\n",
        "    prediction = predict_message(msg)\n",
        "    if prediction[1] != ans:\n",
        "      passed = False\n",
        "\n",
        "  if passed:\n",
        "    print(\"You passed the challenge. Great job!\")\n",
        "  else:\n",
        "    print(\"You haven't passed yet. Keep trying.\")\n",
        "\n",
        "test_predictions()\n"
      ]
    }
  ],
  "metadata": {
    "colab": {
      "name": "fcc_sms_text_classification.ipynb",
      "private_outputs": true,
      "provenance": [],
      "toc_visible": true
    },
    "kernelspec": {
      "display_name": "Python 3",
      "name": "python3"
    },
    "language_info": {
      "codemirror_mode": {
        "name": "ipython",
        "version": 3
      },
      "file_extension": ".py",
      "mimetype": "text/x-python",
      "name": "python",
      "nbconvert_exporter": "python",
      "pygments_lexer": "ipython3",
      "version": "3.8.18"
    }
  },
  "nbformat": 4,
  "nbformat_minor": 0
}
