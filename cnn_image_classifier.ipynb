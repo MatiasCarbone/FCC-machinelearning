{
 "cells": [
  {
   "cell_type": "markdown",
   "metadata": {},
   "source": [
    "# Cats vs. Dogs - CNN Image Classifier\n",
    "\n",
    "This notebook is my solution to the image classification coding challenge from [FreeCodeCamp \"Machine Learning with Python\"](https://www.freecodecamp.org/learn/machine-learning-with-python) course.\n",
    "\n",
    "Here is my attempt to solve this assignment using Tensorflow and Keras."
   ]
  },
  {
   "cell_type": "markdown",
   "metadata": {},
   "source": [
    "## The Assignment\n",
    "\n",
    "_\"For this challenge, you will complete the code to classify images of dogs and cats. You will use TensorFlow 2.0 and Keras to create a convolutional neural network that correctly classifies images of cats and dogs at least 63% of the time. (Extra credit if you get it to 70% accuracy!)_\n",
    "\n",
    "_Some of the code is given to you but some code you must fill in to complete this challenge. Read the instruction in each text cell so you will know what you have to do in each code cell._\n",
    "\n",
    "_The first code cell imports the required libraries. The second code cell downloads the data and sets key variables. The third cell is the first place you will write your own code._\n",
    "\n",
    "_The structure of the dataset files that are downloaded looks like this (You will notice that the test directory has no subdirectories and the images are not labeled):_\n",
    "\n",
    "```\n",
    "cats_and_dogs\n",
    "|__ train:\n",
    "    |______ cats: [cat.0.jpg, cat.1.jpg ...]\n",
    "    |______ dogs: [dog.0.jpg, dog.1.jpg ...]\n",
    "|__ validation:\n",
    "    |______ cats: [cat.2000.jpg, cat.2001.jpg ...]\n",
    "    |______ dogs: [dog.2000.jpg, dog.2001.jpg ...]\n",
    "|__ test: [1.jpg, 2.jpg ...]\n",
    "```\n",
    "\n",
    "_You can tweak epochs and batch size if you like, but it is not required.\"_"
   ]
  },
  {
   "cell_type": "markdown",
   "metadata": {},
   "source": [
    "## Building the Dataframes\n",
    "\n",
    "In this section, we download the provided files and build the dataframes for training and testing de model. The provided data is already split in train/validation/test folders and each one has subfolders for cats and dogs: the two categories we have to work with.\n",
    "\n",
    "Since the course is a bit outdated, it suggests you work with Tensorflow's __ImageDataGenerator__. Since this method is deprecated and not recommended anymore, we will use Keras' __image_dataset_from_directory__ for loading the images in the form of _tf.data.Dataframe_."
   ]
  },
  {
   "cell_type": "code",
   "execution_count": null,
   "metadata": {
    "vscode": {
     "languageId": "plaintext"
    }
   },
   "outputs": [],
   "source": [
    "import tensorflow as tf\n",
    "\n",
    "from tensorflow.keras.models import Sequential\n",
    "from tensorflow.keras.layers import Dense, Conv2D, Flatten, Dropout, MaxPooling2D\n",
    "from tensorflow.keras.preprocessing.image import ImageDataGenerator\n",
    "\n",
    "import os\n",
    "import shutil\n",
    "from zipfile import ZipFile\n",
    "\n",
    "import numpy as np\n",
    "import matplotlib.pyplot as plt"
   ]
  },
  {
   "cell_type": "code",
   "execution_count": null,
   "metadata": {
    "vscode": {
     "languageId": "plaintext"
    }
   },
   "outputs": [],
   "source": [
    "# Download project files\n",
    "!wget https://cdn.freecodecamp.org/project-data/cats-and-dogs/cats_and_dogs.zip\n",
    "\n",
    "# Extract zip and clean unwanted files\n",
    "with ZipFile(\"cats_and_dogs.zip\", \"r\") as zObject:\n",
    "    zObject.extractall()\n",
    "\n",
    "os.remove(\"cats_and_dogs.zip\")\n",
    "shutil.rmtree(\"__MACOSX\")\n",
    "PATH = \"cats_and_dogs\"\n",
    "\n",
    "# Save directories for training, validation and test folders.\n",
    "# Train/validation split is already done in the folder structure.\n",
    "train_dir = os.path.join(PATH, \"train\")\n",
    "validation_dir = os.path.join(PATH, \"validation\")\n",
    "test_dir = os.path.join(PATH, \"test\")"
   ]
  }
 ],
 "metadata": {
  "language_info": {
   "name": "python"
  }
 },
 "nbformat": 4,
 "nbformat_minor": 2
}
