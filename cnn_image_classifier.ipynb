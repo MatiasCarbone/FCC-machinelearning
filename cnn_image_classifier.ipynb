{
 "cells": [
  {
   "cell_type": "markdown",
   "metadata": {},
   "source": [
    "# Cats vs. Dogs - CNN Image Classifier\n",
    "\n",
    "This notebook is my solution to the image classification coding challenge from [FreeCodeCamp \"Machine Learning with Python\"](https://www.freecodecamp.org/learn/machine-learning-with-python) course.\n",
    "\n",
    "Here is my attempt to solve this assignment using Tensorflow and Keras."
   ]
  }
 ],
 "metadata": {
  "language_info": {
   "name": "python"
  }
 },
 "nbformat": 4,
 "nbformat_minor": 2
}
