{
  "cells": [
    {
      "cell_type": "markdown",
      "metadata": {
        "id": "tFKm_0odVlS0"
      },
      "source": [
        "# Cats vs. Dogs - CNN Image Classifier\n",
        "\n",
        "This notebook is my solution to the image classification coding challenge from [FreeCodeCamp \"Machine Learning with Python\"](https://www.freecodecamp.org/learn/machine-learning-with-python) course.\n",
        "\n",
        "Here is my attempt to solve this assignment using Tensorflow and Keras."
      ]
    },
    {
      "cell_type": "markdown",
      "metadata": {
        "id": "A1kSkWldVlS2"
      },
      "source": [
        "## The Assignment\n",
        "\n",
        "_\"For this challenge, you will complete the code to classify images of dogs and cats. You will use TensorFlow 2.0 and Keras to create a convolutional neural network that correctly classifies images of cats and dogs at least 63% of the time. (Extra credit if you get it to 70% accuracy!)_\n",
        "\n",
        "_Some of the code is given to you but some code you must fill in to complete this challenge. Read the instruction in each text cell so you will know what you have to do in each code cell._\n",
        "\n",
        "_The first code cell imports the required libraries. The second code cell downloads the data and sets key variables. The third cell is the first place you will write your own code._\n",
        "\n",
        "_The structure of the dataset files that are downloaded looks like this (You will notice that the test directory has no subdirectories and the images are not labeled):_\n",
        "\n",
        "```\n",
        "cats_and_dogs\n",
        "|__ train:\n",
        "    |______ cats: [cat.0.jpg, cat.1.jpg ...]\n",
        "    |______ dogs: [dog.0.jpg, dog.1.jpg ...]\n",
        "|__ validation:\n",
        "    |______ cats: [cat.2000.jpg, cat.2001.jpg ...]\n",
        "    |______ dogs: [dog.2000.jpg, dog.2001.jpg ...]\n",
        "|__ test: [1.jpg, 2.jpg ...]\n",
        "```\n",
        "\n",
        "_You can tweak epochs and batch size if you like, but it is not required.\"_"
      ]
    },
    {
      "cell_type": "markdown",
      "metadata": {
        "id": "3OW51VGzVlS3"
      },
      "source": [
        "## Building the Dataframes\n",
        "\n",
        "In this section, we download the provided files and build the dataframes for training and testing de model. The provided data is already split in train/validation/test folders and each one has subfolders for cats and dogs: the two categories we have to work with.\n",
        "\n",
        "Since the course is a bit outdated, it suggests you work with Tensorflow's __ImageDataGenerator__. Since this method is deprecated and not recommended anymore, we will use Keras' __image_dataset_from_directory__ for loading the images in the form of _tf.data.Dataframe_."
      ]
    },
    {
      "cell_type": "code",
      "execution_count": null,
      "metadata": {
        "id": "aHanWw7SVlS3"
      },
      "outputs": [],
      "source": [
        "import tensorflow as tf\n",
        "\n",
        "from tensorflow.keras.models import Sequential\n",
        "from tensorflow.keras.layers import Dense, Conv2D, Flatten, Dropout, MaxPooling2D\n",
        "from tensorflow.keras.preprocessing.image import ImageDataGenerator\n",
        "\n",
        "import os\n",
        "import shutil\n",
        "from zipfile import ZipFile\n",
        "\n",
        "import numpy as np\n",
        "import matplotlib.pyplot as plt"
      ]
    },
    {
      "cell_type": "code",
      "execution_count": null,
      "metadata": {
        "id": "IDSGAzRAVlS4"
      },
      "outputs": [],
      "source": [
        "# Download project files\n",
        "!wget https://cdn.freecodecamp.org/project-data/cats-and-dogs/cats_and_dogs.zip\n",
        "\n",
        "# Extract zip and clean unwanted files\n",
        "with ZipFile(\"cats_and_dogs.zip\", \"r\") as zObject:\n",
        "    zObject.extractall()\n",
        "\n",
        "# Remove the remaining files we don't need\n",
        "os.remove(\"cats_and_dogs.zip\")\n",
        "shutil.rmtree(\"__MACOSX\")\n",
        "PATH = \"cats_and_dogs\"\n",
        "\n",
        "# Save directories for training, validation and test folders.\n",
        "# Train/validation split is already done in the folder structure.\n",
        "train_dir = os.path.join(PATH, \"train\")\n",
        "validation_dir = os.path.join(PATH, \"validation\")\n",
        "test_dir = os.path.join(PATH, \"test\")"
      ]
    },
    {
      "cell_type": "code",
      "execution_count": null,
      "metadata": {
        "id": "QbAKHZ-xVlS5"
      },
      "outputs": [],
      "source": [
        "# Variables for pre-processing and training.\n",
        "BATCH_SIZE = 32\n",
        "EPOCHS = 30\n",
        "IMG_HEIGHT = 250\n",
        "IMG_WIDTH = 250"
      ]
    },
    {
      "cell_type": "markdown",
      "metadata": {
        "id": "yR3fz52hVlS5"
      },
      "source": [
        "We build three different dataframes: one for training the model and one for validating each epoch results. The third one only has a few samples and is meant for manual testing at the end. The images will be packed in three _tf.data.Dataframe_ objects, with batching and automatic labels based in the folder structure."
      ]
    },
    {
      "cell_type": "code",
      "execution_count": null,
      "metadata": {
        "colab": {
          "base_uri": "https://localhost:8080/"
        },
        "id": "xnU3HaX0VlS5",
        "outputId": "8caa1306-284d-497e-e6a5-98b6a93940dd"
      },
      "outputs": [
        {
          "name": "stdout",
          "output_type": "stream",
          "text": [
            "Found 2000 files belonging to 2 classes.\n",
            "Found 1000 files belonging to 2 classes.\n",
            "Found 50 files belonging to 1 classes.\n"
          ]
        }
      ],
      "source": [
        "train_dataset = tf.keras.utils.image_dataset_from_directory(\n",
        "    directory=train_dir,\n",
        "    labels=\"inferred\",\n",
        "    label_mode=\"binary\",\n",
        "    batch_size=BATCH_SIZE,\n",
        "    image_size=(IMG_HEIGHT, IMG_WIDTH),\n",
        "    color_mode=\"rgb\",\n",
        "    shuffle=True,\n",
        ")\n",
        "\n",
        "validation_dataset = tf.keras.utils.image_dataset_from_directory(\n",
        "    directory=validation_dir,\n",
        "    labels=\"inferred\",\n",
        "    label_mode=\"binary\",\n",
        "    batch_size=BATCH_SIZE,\n",
        "    image_size=(IMG_HEIGHT, IMG_WIDTH),\n",
        "    color_mode=\"rgb\",\n",
        "    shuffle=True,\n",
        ")\n",
        "\n",
        "# Note that the test dataset has shuffle=False so the list of predictions is always in the same order.\n",
        "test_dataset = tf.keras.utils.image_dataset_from_directory(\n",
        "    directory=test_dir,\n",
        "    labels=None,\n",
        "    batch_size=1,\n",
        "    color_mode=\"rgb\",\n",
        "    image_size=(IMG_HEIGHT, IMG_WIDTH),\n",
        "    shuffle=False,\n",
        ")"
      ]
    },
    {
      "cell_type": "markdown",
      "metadata": {
        "id": "dPj8XHSpVlS6"
      },
      "source": [
        "## Building the Model\n",
        "\n",
        "To perfom image classification of colour images, we have to build a __Convolutional Neural Network__. In this case, I made a simple one with the following architecture:\n",
        "\n",
        "1. Rescaling layer\n",
        "2. Multiple Data Augmentation layers\n",
        "3. Multiple Conv2D -> MaxPool2D layers\n",
        "4. Densely Connected classification layer\n",
        "\n",
        "The final layer is a one-neuro Dense layer with sigmoid activation, that outputs a binary probability: dog or cat."
      ]
    },
    {
      "cell_type": "code",
      "execution_count": null,
      "metadata": {
        "colab": {
          "base_uri": "https://localhost:8080/"
        },
        "id": "818gTqRhVlS6",
        "outputId": "98137a0f-35ad-4d9b-a44d-d6e58ce22b24"
      },
      "outputs": [
        {
          "name": "stdout",
          "output_type": "stream",
          "text": [
            "Model: \"sequential\"\n",
            "_________________________________________________________________\n",
            " Layer (type)                Output Shape              Param #   \n",
            "=================================================================\n",
            " rescaling (Rescaling)       (None, 250, 250, 3)       0         \n",
            "                                                                 \n",
            " random_flip (RandomFlip)    (None, 250, 250, 3)       0         \n",
            "                                                                 \n",
            " random_rotation (RandomRot  (None, 250, 250, 3)       0         \n",
            " ation)                                                          \n",
            "                                                                 \n",
            " random_zoom (RandomZoom)    (None, 250, 250, 3)       0         \n",
            "                                                                 \n",
            " conv2d (Conv2D)             (None, 248, 248, 32)      896       \n",
            "                                                                 \n",
            " max_pooling2d (MaxPooling2  (None, 124, 124, 32)      0         \n",
            " D)                                                              \n",
            "                                                                 \n",
            " conv2d_1 (Conv2D)           (None, 122, 122, 64)      18496     \n",
            "                                                                 \n",
            " max_pooling2d_1 (MaxPoolin  (None, 61, 61, 64)        0         \n",
            " g2D)                                                            \n",
            "                                                                 \n",
            " conv2d_2 (Conv2D)           (None, 59, 59, 128)       73856     \n",
            "                                                                 \n",
            " max_pooling2d_2 (MaxPoolin  (None, 29, 29, 128)       0         \n",
            " g2D)                                                            \n",
            "                                                                 \n",
            " conv2d_3 (Conv2D)           (None, 27, 27, 128)       147584    \n",
            "                                                                 \n",
            " max_pooling2d_3 (MaxPoolin  (None, 13, 13, 128)       0         \n",
            " g2D)                                                            \n",
            "                                                                 \n",
            " dropout (Dropout)           (None, 13, 13, 128)       0         \n",
            "                                                                 \n",
            " flatten (Flatten)           (None, 21632)             0         \n",
            "                                                                 \n",
            " dense (Dense)               (None, 256)               5538048   \n",
            "                                                                 \n",
            " dense_1 (Dense)             (None, 1)                 257       \n",
            "                                                                 \n",
            "=================================================================\n",
            "Total params: 5779137 (22.05 MB)\n",
            "Trainable params: 5779137 (22.05 MB)\n",
            "Non-trainable params: 0 (0.00 Byte)\n",
            "_________________________________________________________________\n"
          ]
        }
      ],
      "source": [
        "model = tf.keras.models.Sequential([\n",
        "    tf.keras.Input(shape=(IMG_HEIGHT, IMG_WIDTH, 3)),\n",
        "    # This layer does the rescaling of pixel values from 0-255 to 0-1, so the neural network can handle \n",
        "    # values more efficiently. Note that resizing was already done when building the datasets.\n",
        "    tf.keras.layers.Rescaling(scale=1./255),\n",
        "\n",
        "    # This layers perform data augmentation: random rotations, zooms and flips to avoid overfitting.\n",
        "    tf.keras.layers.RandomFlip(mode=\"horizontal\"),\n",
        "    tf.keras.layers.RandomRotation(factor=0.3),\n",
        "    tf.keras.layers.RandomZoom(height_factor=(0.0, 0.4)),\n",
        "\n",
        "    # A series of convolution and maxpooling layers that filter and subsample the image repeatedly, \n",
        "    # attemping to find patterns, edges and shapes. The architecture is simple and offers decent \n",
        "    # results with low trial and error.\n",
        "    tf.keras.layers.Conv2D(32, (3, 3), activation='relu'),\n",
        "    tf.keras.layers.MaxPooling2D(2, 2),\n",
        "\n",
        "    tf.keras.layers.Conv2D(64, (3, 3), activation='relu'),\n",
        "    tf.keras.layers.MaxPooling2D(2, 2),\n",
        "\n",
        "    tf.keras.layers.Conv2D(128, (3, 3), activation='relu'),\n",
        "    tf.keras.layers.MaxPooling2D(2, 2),\n",
        "\n",
        "    tf.keras.layers.Conv2D(128, kernel_size=(3, 3), activation='relu'),\n",
        "    tf.keras.layers.MaxPooling2D(2, 2),\n",
        "\n",
        "    # This layers deactivates random inputs to neurons to avoid overfitting and \"memorizing\" data.\n",
        "    tf.keras.layers.Dropout(0.3),\n",
        "\n",
        "    # Densely connected layers that finishes in a one-neuron layer for classification.\n",
        "    tf.keras.layers.Flatten(),\n",
        "    tf.keras.layers.Dense(256, activation='relu'),\n",
        "    tf.keras.layers.Dense(1, activation=\"sigmoid\")\n",
        "])\n",
        "\n",
        "model.summary()\n",
        "\n",
        "model.compile(optimizer=\"adam\", loss=\"binary_crossentropy\",\n",
        "              metrics=[\"accuracy\"])"
      ]
    },
    {
      "cell_type": "markdown",
      "metadata": {
        "id": "CIvJP5ZEkpfU"
      },
      "source": [
        "## Training and Testing the Model\n",
        "\n",
        "Using the Adam optimizer, we quickly reach 70% validation accuracy after the 20th epoch. Further training could improve the results but, for this assignment, it's more than enough."
      ]
    },
    {
      "cell_type": "code",
      "execution_count": null,
      "metadata": {
        "colab": {
          "base_uri": "https://localhost:8080/"
        },
        "id": "5icFt8rBVlS6",
        "outputId": "85663c84-1afe-46de-a600-2b40315a33ec"
      },
      "outputs": [
        {
          "name": "stdout",
          "output_type": "stream",
          "text": [
            "Epoch 1/30\n",
            "63/63 [==============================] - 21s 166ms/step - loss: 0.7278 - accuracy: 0.5010 - val_loss: 0.6931 - val_accuracy: 0.5110\n",
            "Epoch 2/30\n",
            "63/63 [==============================] - 10s 147ms/step - loss: 0.6932 - accuracy: 0.5125 - val_loss: 0.6928 - val_accuracy: 0.5000\n",
            "Epoch 3/30\n",
            "63/63 [==============================] - 8s 128ms/step - loss: 0.6938 - accuracy: 0.5005 - val_loss: 0.6930 - val_accuracy: 0.5090\n",
            "Epoch 4/30\n",
            "63/63 [==============================] - 9s 133ms/step - loss: 0.6924 - accuracy: 0.5560 - val_loss: 0.6898 - val_accuracy: 0.5490\n",
            "Epoch 5/30\n",
            "63/63 [==============================] - 9s 135ms/step - loss: 0.6878 - accuracy: 0.5610 - val_loss: 0.7353 - val_accuracy: 0.5180\n",
            "Epoch 6/30\n",
            "63/63 [==============================] - 8s 128ms/step - loss: 0.6903 - accuracy: 0.5315 - val_loss: 0.6714 - val_accuracy: 0.6310\n",
            "Epoch 7/30\n",
            "63/63 [==============================] - 9s 132ms/step - loss: 0.6694 - accuracy: 0.6050 - val_loss: 0.6590 - val_accuracy: 0.6120\n",
            "Epoch 8/30\n",
            "63/63 [==============================] - 9s 133ms/step - loss: 0.6533 - accuracy: 0.6295 - val_loss: 0.6348 - val_accuracy: 0.6310\n",
            "Epoch 9/30\n",
            "63/63 [==============================] - 9s 141ms/step - loss: 0.6516 - accuracy: 0.6370 - val_loss: 0.6513 - val_accuracy: 0.6200\n",
            "Epoch 10/30\n",
            "63/63 [==============================] - 9s 134ms/step - loss: 0.6326 - accuracy: 0.6540 - val_loss: 0.6739 - val_accuracy: 0.6120\n",
            "Epoch 11/30\n",
            "63/63 [==============================] - 9s 133ms/step - loss: 0.6362 - accuracy: 0.6415 - val_loss: 0.6237 - val_accuracy: 0.6510\n",
            "Epoch 12/30\n",
            "63/63 [==============================] - 9s 131ms/step - loss: 0.6231 - accuracy: 0.6565 - val_loss: 0.6065 - val_accuracy: 0.6670\n",
            "Epoch 13/30\n",
            "63/63 [==============================] - 9s 143ms/step - loss: 0.6058 - accuracy: 0.6650 - val_loss: 0.6320 - val_accuracy: 0.6280\n",
            "Epoch 14/30\n",
            "63/63 [==============================] - 8s 126ms/step - loss: 0.6035 - accuracy: 0.6695 - val_loss: 0.6189 - val_accuracy: 0.6560\n",
            "Epoch 15/30\n",
            "63/63 [==============================] - 8s 130ms/step - loss: 0.5952 - accuracy: 0.6945 - val_loss: 0.5893 - val_accuracy: 0.7050\n",
            "Epoch 16/30\n",
            "63/63 [==============================] - 9s 144ms/step - loss: 0.5760 - accuracy: 0.6895 - val_loss: 0.5766 - val_accuracy: 0.6960\n",
            "Epoch 17/30\n",
            "63/63 [==============================] - 8s 126ms/step - loss: 0.5788 - accuracy: 0.6940 - val_loss: 0.6027 - val_accuracy: 0.6650\n",
            "Epoch 18/30\n",
            "63/63 [==============================] - 8s 130ms/step - loss: 0.5776 - accuracy: 0.6885 - val_loss: 0.5781 - val_accuracy: 0.6880\n",
            "Epoch 19/30\n",
            "63/63 [==============================] - 9s 131ms/step - loss: 0.5461 - accuracy: 0.7245 - val_loss: 0.5807 - val_accuracy: 0.6930\n",
            "Epoch 20/30\n",
            "63/63 [==============================] - 8s 126ms/step - loss: 0.5413 - accuracy: 0.7230 - val_loss: 0.5469 - val_accuracy: 0.7230\n",
            "Epoch 21/30\n",
            "63/63 [==============================] - 8s 127ms/step - loss: 0.5472 - accuracy: 0.7160 - val_loss: 0.5505 - val_accuracy: 0.7230\n",
            "Epoch 22/30\n",
            "63/63 [==============================] - 9s 133ms/step - loss: 0.5579 - accuracy: 0.7225 - val_loss: 0.5528 - val_accuracy: 0.7240\n",
            "Epoch 23/30\n",
            "63/63 [==============================] - 8s 130ms/step - loss: 0.5366 - accuracy: 0.7420 - val_loss: 0.5455 - val_accuracy: 0.7320\n",
            "Epoch 24/30\n",
            "63/63 [==============================] - 9s 131ms/step - loss: 0.5192 - accuracy: 0.7460 - val_loss: 0.5525 - val_accuracy: 0.7220\n",
            "Epoch 25/30\n",
            "63/63 [==============================] - 8s 126ms/step - loss: 0.5236 - accuracy: 0.7300 - val_loss: 0.5435 - val_accuracy: 0.7230\n",
            "Epoch 26/30\n",
            "63/63 [==============================] - 9s 128ms/step - loss: 0.5151 - accuracy: 0.7420 - val_loss: 0.5227 - val_accuracy: 0.7380\n",
            "Epoch 27/30\n",
            "63/63 [==============================] - 9s 131ms/step - loss: 0.5011 - accuracy: 0.7620 - val_loss: 0.5322 - val_accuracy: 0.7320\n",
            "Epoch 28/30\n",
            "63/63 [==============================] - 9s 142ms/step - loss: 0.5084 - accuracy: 0.7395 - val_loss: 0.5137 - val_accuracy: 0.7560\n",
            "Epoch 29/30\n",
            "63/63 [==============================] - 8s 125ms/step - loss: 0.5044 - accuracy: 0.7520 - val_loss: 0.5323 - val_accuracy: 0.7380\n",
            "Epoch 30/30\n",
            "63/63 [==============================] - 9s 129ms/step - loss: 0.4944 - accuracy: 0.7560 - val_loss: 0.5161 - val_accuracy: 0.7480\n"
          ]
        }
      ],
      "source": [
        "# Training the model and storing the training data.\n",
        "history = model.fit(\n",
        "    train_dataset, epochs=EPOCHS, validation_data=validation_dataset, shuffle=True\n",
        ")"
      ]
    },
    {
      "cell_type": "code",
      "execution_count": null,
      "metadata": {
        "colab": {
          "base_uri": "https://localhost:8080/",
          "height": 391
        },
        "id": "qE-m9Cf_ccGD",
        "outputId": "056f6b2f-c198-4f7b-95bc-2cfed83575d7"
      },
      "outputs": [
        {
          "data": {
            "image/png": "[encoded data removed]",
            "text/plain": [
              "<Figure size 1200x400 with 2 Axes>"
            ]
          },
          "metadata": {},
          "output_type": "display_data"
        }
      ],
      "source": [
        "# Plotting the training accuracy and loss.\n",
        "acc = history.history[\"accuracy\"]\n",
        "val_acc = history.history[\"val_accuracy\"]\n",
        "\n",
        "loss = history.history[\"loss\"]\n",
        "val_loss = history.history[\"val_loss\"]\n",
        "\n",
        "epochs_range = range(EPOCHS)\n",
        "\n",
        "plt.figure(figsize=(12, 4))\n",
        "plt.subplot(1, 2, 1)\n",
        "plt.plot(epochs_range, acc, label=\"Training Accuracy\")\n",
        "plt.plot(epochs_range, val_acc, label=\"Validation Accuracy\")\n",
        "plt.grid()\n",
        "plt.legend(loc=\"lower right\")\n",
        "plt.title(\"Training and Validation Accuracy\")\n",
        "\n",
        "plt.subplot(1, 2, 2)\n",
        "plt.plot(epochs_range, loss, label=\"Training Loss\")\n",
        "plt.plot(epochs_range, val_loss, label=\"Validation Loss\")\n",
        "plt.grid()\n",
        "plt.legend(loc=\"upper right\")\n",
        "plt.title(\"Training and Validation Loss\")\n",
        "plt.show()"
      ]
    },
    {
      "cell_type": "markdown",
      "metadata": {
        "id": "qeIvq2rslgFO"
      },
      "source": [
        "## Final Evaluation\n",
        "\n",
        "The 50 test images are used for making a list of predictions, and then the list is compared to the expected results. 60% accuracy is required to pass the assignment."
      ]
    },
    {
      "cell_type": "code",
      "execution_count": null,
      "metadata": {
        "colab": {
          "base_uri": "https://localhost:8080/"
        },
        "id": "J5L3I0lIgXeK",
        "outputId": "24f73e6f-1101-4007-ceaf-ecf47373fbc3"
      },
      "outputs": [
        {
          "name": "stdout",
          "output_type": "stream",
          "text": [
            "50/50 [==============================] - 0s 2ms/step\n"
          ]
        }
      ],
      "source": [
        "# Generating a list of predictions using the test dataframe.\n",
        "probabilities = model.predict(test_dataset)"
      ]
    },
    {
      "cell_type": "code",
      "execution_count": null,
      "metadata": {
        "colab": {
          "base_uri": "https://localhost:8080/"
        },
        "id": "U8S4ozHtdGYO",
        "outputId": "2fd3805e-ef68-4373-9944-d9abd009d679"
      },
      "outputs": [
        {
          "name": "stdout",
          "output_type": "stream",
          "text": [
            "Your model correctly identified 78.0% of the images of cats and dogs.\n",
            "You passed the challenge!\n"
          ]
        }
      ],
      "source": [
        "# This conversion is required because the assignment needs a 1D python list.\n",
        "probabilities = probabilities.flatten().tolist()\n",
        "\n",
        "answers = [1, 0, 0, 1, 0, 0, 0, 0, 1, 1, 0,\n",
        "           1, 0, 1, 0, 1, 1, 0, 1, 1, 0, 0,\n",
        "           1, 1, 1, 1, 1, 0, 0, 0, 0, 0, 1,\n",
        "           1, 0, 1, 1, 1, 1, 0, 1, 0, 1, 1,\n",
        "           0, 0, 0, 0, 0, 0]\n",
        "\n",
        "correct = 0\n",
        "\n",
        "for probability, answer in zip(probabilities, answers):\n",
        "    if round(probability) == answer:\n",
        "        correct += 1\n",
        "\n",
        "percentage_identified = (correct / len(answers)) * 100\n",
        "\n",
        "passed_challenge = percentage_identified >= 63\n",
        "\n",
        "print(f\"Your model correctly identified {\n",
        "      round(percentage_identified, 2)}% of the images of cats and dogs.\")\n",
        "\n",
        "if passed_challenge:\n",
        "    print(\"You passed the challenge!\")\n",
        "else:\n",
        "    print(\"You haven't passed yet. Your model should identify at least 63% of the images. Keep trying. You will get it!\")"
      ]
    }
  ],
  "metadata": {
    "accelerator": "GPU",
    "colab": {
      "gpuType": "T4",
      "provenance": []
    },
    "kernelspec": {
      "display_name": "Python 3",
      "name": "python3"
    },
    "language_info": {
      "codemirror_mode": {
        "name": "ipython",
        "version": 3
      },
      "file_extension": ".py",
      "mimetype": "text/x-python",
      "name": "python",
      "nbconvert_exporter": "python",
      "pygments_lexer": "ipython3",
      "version": "3.8.18"
    }
  },
  "nbformat": 4,
  "nbformat_minor": 0
}
